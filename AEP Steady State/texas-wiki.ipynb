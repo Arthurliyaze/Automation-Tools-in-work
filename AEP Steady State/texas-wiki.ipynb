{
 "cells": [
  {
   "cell_type": "markdown",
   "metadata": {},
   "source": [
    "# Get study area counties in Texas\n",
    "### 1. Download all counties in Texas by the dataset from Wikipedia: [List of counties in Texas](https://en.wikipedia.org/wiki/List_of_counties_in_Texas)."
   ]
  },
  {
   "cell_type": "code",
   "execution_count": 2,
   "metadata": {},
   "outputs": [],
   "source": [
    "import pandas as pd\n",
    "\n",
    "# scrape and collect the county-level data on Wikipedia\n",
    "df = pd.read_html('https://en.wikipedia.org/wiki/List_of_counties_in_Texas')[1]\n",
    "df = df.iloc[:,:1]\n",
    "df.columns = ['county']\n",
    "df.to_csv('data/texas-counties.csv', index=False)"
   ]
  },
  {
   "cell_type": "markdown",
   "metadata": {},
   "source": [
    "### 2. Get adjacent counties by the description from Wikipedia's each county page."
   ]
  },
  {
   "cell_type": "code",
   "execution_count": 3,
   "metadata": {},
   "outputs": [],
   "source": [
    "def get_adj(county):\n",
    "    \"\"\"Input the county name e.g. Anderson County\"\"\"\n",
    "\n",
    "    import requests\n",
    "    from bs4 import BeautifulSoup\n",
    "\n",
    "    county = county.replace(\" \",\"_\")\n",
    "    response = requests.get(\"https://en.wikipedia.org/wiki/\"+county+\",_Texas\")\n",
    "    soup = BeautifulSoup(response.text, \"lxml\")\n",
    "    links = (\n",
    "        soup\n",
    "        .select_one(\"#Adjacent_counties,#Adjacent_counties_and_municipalities,#Adjacent_counties_and_parish,#Adjacent_counties_and_parishes\")\n",
    "        .parent\n",
    "        .find_next_sibling([\"div\",\"ul\"])\n",
    "        .find_all(\"a\", href=True)\n",
    "    )\n",
    "    adj = []\n",
    "    for link in links:\n",
    "        if 'Texas' in link[\"title\"]:\n",
    "            adj.append(link[\"title\"][:-7])\n",
    "\n",
    "    return sorted(adj)"
   ]
  },
  {
   "cell_type": "markdown",
   "metadata": {},
   "source": [
    "Test the function to get the adjacent counties"
   ]
  },
  {
   "cell_type": "code",
   "execution_count": 4,
   "metadata": {},
   "outputs": [
    {
     "name": "stdout",
     "output_type": "stream",
     "text": [
      "['Fannin County', 'Franklin County', 'Hopkins County', 'Hunt County', 'Lamar County', 'Red River County']\n"
     ]
    }
   ],
   "source": [
    "print(get_adj('Delta County'))"
   ]
  },
  {
   "cell_type": "markdown",
   "metadata": {},
   "source": [
    "### 3. Call the get_adj() function for all adjacent counties"
   ]
  },
  {
   "cell_type": "code",
   "execution_count": 5,
   "metadata": {},
   "outputs": [],
   "source": [
    "def get_adj2(county):\n",
    "    \"\"\"Input the county name e.g. Anderson County\"\"\"\n",
    "\n",
    "    adj_counties = get_adj(county)\n",
    "    adj2 = get_adj(county)\n",
    "    for adj in adj_counties:\n",
    "        adj_adj_counties = get_adj(adj)\n",
    "        for adj_adj in adj_adj_counties:\n",
    "            if adj_adj not in adj2 and adj_adj != county:\n",
    "                adj2.append(adj_adj)\n",
    "\n",
    "    return sorted(adj2)"
   ]
  },
  {
   "cell_type": "markdown",
   "metadata": {},
   "source": [
    "Test the function to get the study area counties"
   ]
  },
  {
   "cell_type": "code",
   "execution_count": 6,
   "metadata": {},
   "outputs": [
    {
     "name": "stdout",
     "output_type": "stream",
     "text": [
      "['Bowie County', 'Camp County', 'Collin County', 'Fannin County', 'Franklin County', 'Grayson County', 'Hopkins County', 'Hunt County', 'Kaufman County', 'Lamar County', 'Morris County', 'Rains County', 'Red River County', 'Rockwall County', 'Titus County', 'Van Zandt County', 'Wood County']\n"
     ]
    }
   ],
   "source": [
    "print(get_adj2('Delta County'))"
   ]
  },
  {
   "cell_type": "markdown",
   "metadata": {},
   "source": [
    "### 4. Modify the website, change the color and update the map."
   ]
  },
  {
   "cell_type": "code",
   "execution_count": null,
   "metadata": {},
   "outputs": [],
   "source": [
    "county = 'Delta County'\n",
    "\n",
    "from bs4 import BeautifulSoup\n",
    "import re\n",
    "\n",
    "county_s = county[:-7]\n",
    "with open(\"data/texas_color_map.html\") as fp:\n",
    "    soup = BeautifulSoup(fp, 'html.parser')\n",
    "\n",
    "old_text = soup.find('textarea')\n",
    "old_text.string = \"\\n\"+\" \\n\".join(old_text.string.split())+\" \"\n",
    "# print(old_text.string)\n",
    "old_text.string = re.sub(f\"\\n{county_s} \",f\"\\n{county_s} \"+'1', old_text.string)\n",
    "for adj in get_adj2(county):\n",
    "    adj_s = adj[:-7]\n",
    "    adj_s = adj_s.replace(\" \",\"_\")\n",
    "    old_text.string = re.sub(f\"\\n{adj_s} \",f\"\\n{adj_s} \"+'2', old_text.string)\n",
    "# print(old_text.string)\n",
    "with open(\"data/study_area.html\", \"wb\") as f_output:\n",
    "    f_output.write(soup.prettify(\"utf-8\"))\n",
    "\n",
    "from bs4 import BeautifulSoup\n",
    "from selenium import webdriver\n",
    "from selenium.webdriver.common.by import By\n",
    "import os\n",
    "driver = webdriver.Chrome()\n",
    "filename = 'file:///'+os.getcwd()+'/' + 'data/study_area.html'\n",
    "driver.get(filename)\n",
    "driver.find_element(By.ID,\"update\").click()"
   ]
  },
  {
   "cell_type": "markdown",
   "metadata": {},
   "source": [
    "### 5. Write section 4 as a function that update the map and download the pdf."
   ]
  },
  {
   "cell_type": "code",
   "execution_count": 7,
   "metadata": {},
   "outputs": [],
   "source": [
    "def plot_study_area(county):\n",
    "\n",
    "    import re\n",
    "    import time\n",
    "    import glob\n",
    "    import os\n",
    "    from bs4 import BeautifulSoup\n",
    "    from selenium import webdriver\n",
    "    from selenium.webdriver.common.by import By\n",
    "    from selenium.webdriver.support.ui import WebDriverWait\n",
    "    from selenium.webdriver.support import expected_conditions as EC\n",
    "\n",
    "    county_s = county[:-7]\n",
    "    county_s = county_s.replace(\" \",\"_\")\n",
    "    with open(\"data/texas_color_map.html\") as fp:\n",
    "        soup = BeautifulSoup(fp, 'html.parser')\n",
    "\n",
    "    old_text = soup.find('textarea')\n",
    "    old_text.string = '\\n'+old_text.string\n",
    "    old_text.string = \"\\n\"+\" \\n\".join(old_text.string.split())+\" \"\n",
    "    old_text.string = re.sub(f\"\\n{county_s} \",f\"\\n{county_s} \"+'1', old_text.string)\n",
    "    for adj in get_adj2(county):\n",
    "        adj_s = adj[:-7]\n",
    "        adj_s = adj_s.replace(\" \",\"_\")\n",
    "        old_text.string = re.sub(f\"\\n{adj_s} \",f\"\\n{adj_s} \"+'2', old_text.string)\n",
    "\n",
    "    with open(\"data/study_area.html\", \"wb\") as f_output:\n",
    "        f_output.write(soup.prettify(\"utf-8\"))\n",
    "\n",
    "    download_path = \"/Users/arthurli/Documents/Python code/download map\"\n",
    "    options = webdriver.ChromeOptions()\n",
    "    prefs = {\"download.default_directory\" : download_path}\n",
    "    options.add_experimental_option(\"prefs\",prefs)\n",
    "    options.add_argument(\"--disable-popup-blocking\")\n",
    "    driver = webdriver.Chrome(options=options)\n",
    "\n",
    "    filename = 'file:///'+os.getcwd()+'/' + 'data/study_area.html'\n",
    "    try:\n",
    "        map_size = 0\n",
    "        new_pdf = download_path+f'/{county} study area.pdf'\n",
    "        while map_size < 300*1024:\n",
    "            driver.get(filename)\n",
    "            driver.find_element(By.ID,\"update\").click()\n",
    "            download= driver.find_element(By.ID,\"capture_pdf\")\n",
    "            driver.execute_script(\"arguments[0].scrollIntoView();\", download)\n",
    "            popup = WebDriverWait(driver, 60).until(EC.presence_of_element_located((By.ID,\"capture_pdf\")))\n",
    "            if os.path.exists(new_pdf):\n",
    "                os.remove(new_pdf)\n",
    "            download.click()\n",
    "            time.sleep(5)\n",
    "            list_of_files = glob.glob(download_path+\"/*.pdf\")\n",
    "            downloaded_pdf = max(list_of_files, key=os.path.getctime)\n",
    "            \n",
    "            os.rename(downloaded_pdf,new_pdf)\n",
    "            map_size = os.path.getsize(new_pdf)\n",
    "\n",
    "        driver.close()\n",
    "    except:\n",
    "        print(\"Error occurs, please debug!\")\n"
   ]
  },
  {
   "cell_type": "code",
   "execution_count": null,
   "metadata": {},
   "outputs": [],
   "source": [
    "plot_study_area(county='Delta County')"
   ]
  }
 ],
 "metadata": {
  "kernelspec": {
   "display_name": "Python 3",
   "language": "python",
   "name": "python3"
  },
  "language_info": {
   "codemirror_mode": {
    "name": "ipython",
    "version": 3
   },
   "file_extension": ".py",
   "mimetype": "text/x-python",
   "name": "python",
   "nbconvert_exporter": "python",
   "pygments_lexer": "ipython3",
   "version": "3.12.1"
  }
 },
 "nbformat": 4,
 "nbformat_minor": 2
}
