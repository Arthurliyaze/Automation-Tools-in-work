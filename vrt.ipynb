{
 "cells": [
  {
   "cell_type": "code",
   "execution_count": 30,
   "metadata": {},
   "outputs": [],
   "source": [
    "\"\"\"This section creates the ini files for VRT.\"\"\"\n",
    "import os\n",
    "\n",
    "project_path = 'D:/ERCOT/AEP Dynamic/MQT/'\n",
    "project_list = os.listdir(project_path)\n",
    "\n",
    "vrt_path = 'D:/DMView 2.7.1/'\n",
    "\n",
    "for project in project_list:\n",
    "    initials = ['lag','lead']\n",
    "    for initial in initials:\n",
    "        \"\"\"Create the ini file.\"\"\"\n",
    "        filename = vrt_path + project + '_VRT_' + initial + '.ini'\n",
    "\n",
    "        \"\"\"Write the ini file.\"\"\"\n",
    "        with open(filename, 'w') as ini:\n",
    "            ini.write('/' + project + 'for ERCOT dynamic model quality test\\n')\n",
    "            ini.write(\"/created by Arthur Li - CF Power\\n\\n\")\n",
    "            ini.write(\"[Build FS]\\nBuild_FS_flag = 1\\nPOI_PF = \")\n",
    "            if initial == 'lag':\n",
    "                ini.write('0.95 /lagging \\n')\n",
    "            else:\n",
    "                ini.write('-0.95 /leading \\n')\n",
    "\n",
    "            ini.write('\\n[Input files]\\ninput_path = CASEs\\\\'+project+'\\n')\n",
    "            ini.write('unconv_casefile ='+project+'.sav /psse v33\\n model_file_lst = [\\''+project+'.dyr\\']/codes in v33\\n')\n",
    "            ini.write('\\n[Tests]\\nTest01_LVRT_LEGACY = [\\'VOLT\\',\\'DATAs\\\\ERCOT_Legacy_LVRT.xlsx\\']\\n')\n",
    "            ini.write('Test02_LVRT_VOLT_DIP = [\\'VOLT\\',\\'DATAs\\\\ERCOT-245_2800_Piecewise_LVRT_(PV-BESS)_10secSpacing_r2.xlsx\\']\\n')\n",
    "            ini.write('Test3_HVRT_PREFERED = [\\'VOLT\\',\\'DATAs\\\\ERCOT-245_2800_HVRT.xlsx\\']\\n\\n[Settings]\\nPlot_Flag = 1')"
   ]
  },
  {
   "cell_type": "code",
   "execution_count": 31,
   "metadata": {},
   "outputs": [
    {
     "name": "stdout",
     "output_type": "stream",
     "text": [
      "Finish the VRT of 24INR0201 & 27INR0029 Short Creek Solar & Storage successfully.\n",
      "\n",
      "Finish the VRT of 24INR0378 Solara BESS 1 successfully.\n",
      "\n",
      "Finish the VRT of 24INR0379 Solara BESS 2 successfully.\n",
      "\n",
      "Finish the VRT of 24INR0442 Midnight Sun Energy Storage successfully.\n",
      "\n"
     ]
    }
   ],
   "source": [
    "os.chdir(vrt_path)\n",
    "\n",
    "for project in project_list:\n",
    "    for initial in initials:\n",
    "        filename = vrt_path + project + '_VRT_' + initial + '.ini'\n",
    "        os.system('py -2 dmview.pyc \"'+filename+'\"')\n",
    "    print('Finish the VRT of '+project+' successfully.\\n')\n"
   ]
  }
 ],
 "metadata": {
  "kernelspec": {
   "display_name": "Python 3",
   "language": "python",
   "name": "python3"
  },
  "language_info": {
   "codemirror_mode": {
    "name": "ipython",
    "version": 3
   },
   "file_extension": ".py",
   "mimetype": "text/x-python",
   "name": "python",
   "nbconvert_exporter": "python",
   "pygments_lexer": "ipython3",
   "version": "3.12.5"
  }
 },
 "nbformat": 4,
 "nbformat_minor": 2
}
