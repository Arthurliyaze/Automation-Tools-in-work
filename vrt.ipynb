{
 "cells": [
  {
   "cell_type": "code",
   "execution_count": 58,
   "metadata": {},
   "outputs": [],
   "source": [
    "\"\"\"This section creates the project folders for VRT.\"\"\"\n",
    "import pandas as pd\n",
    "import os\n",
    "\n",
    "# Read the excel file\n",
    "df_project = pd.read_excel(\"D:/ERCOT/AEP Dynamic/MQT/MQT.xlsx\",header=None)\n",
    "project_list = []\n",
    "for project in df_project.values.tolist():\n",
    "    num = project[0]\n",
    "    name = project[1]\n",
    "    project_list.append(num+' '+name)\n",
    "    #path = 'D:/ERCOT/AEP Dynamic/MQT/Undone/'+num+' '+name+'/'\n",
    "    path = 'D:/DMView 3.3/CASEs/'+num+' '+name+'/'\n",
    "\n",
    "    # Check whether the specified path exists or not\n",
    "    isExist = os.path.exists(path)\n",
    "    if not isExist:\n",
    "        # Create a new directory because it does not exist\n",
    "        os.makedirs(path)"
   ]
  },
  {
   "cell_type": "code",
   "execution_count": 59,
   "metadata": {},
   "outputs": [],
   "source": [
    "\"\"\"This section creates the ini files for VRT.\"\"\"\n",
    "import os\n",
    "\n",
    "project_path = 'D:/ERCOT/AEP Dynamic/MQT/Undone/'\n",
    "project_list = os.listdir(project_path)\n",
    "\n",
    "vrt_path = 'D:/DMView 3.3/'\n",
    "\n",
    "for project in project_list:\n",
    "# project = '20INR0213 & 24INR0272 Brushy Creek Solar & Storage SLF'\n",
    "    scenario = ['dis','ch']\n",
    "    initials = ['lag','lead']\n",
    "    for bess in scenario:\n",
    "        for initial in initials:\n",
    "            \"\"\"Create the ini file.\"\"\"\n",
    "            filename = vrt_path + project + '_VRT_' + bess + '_' + initial + '.ini'\n",
    "\n",
    "            \"\"\"Write the ini file.\"\"\"\n",
    "            with open(filename, 'w') as ini:\n",
    "                ini.write('/' + project + 'for ERCOT dynamic model quality test\\n')\n",
    "                ini.write(\"/created by Arthur Li - CF Power\\n\\n\")\n",
    "                ini.write(\"[Build FS]\\nBuild_FS_flag = 1\\nPOI_PF = \")\n",
    "                if initial == 'lag':\n",
    "                    ini.write('0.95 /lagging \\n')\n",
    "                else:\n",
    "                    ini.write('-0.95 /leading \\n')\n",
    "\n",
    "                ini.write('\\n[Input files]\\ninput_path = CASEs\\\\'+project+'\\n')\n",
    "                ini.write('unconv_casefile ='+project+ '_'+ bess+'.sav /psse v33\\n model_file_lst = [\\''+project+'.dyr\\']/codes in v33\\n')\n",
    "                ini.write('\\n[Tests]\\nTest01_LVRT_LEGACY = [\\'VOLT\\',\\'DATAs\\\\ERCOT_Legacy_LVRT.xlsx\\']\\n')\n",
    "                ini.write('Test02_LVRT_VOLT_DIP = [\\'VOLT\\',\\'DATAs\\\\ERCOT-245_2800_Piecewise_LVRT_(PV-BESS)_10secSpacing_r2.xlsx\\']\\n')\n",
    "                ini.write('Test03_HVRT_PREFERED = [\\'VOLT\\',\\'DATAs\\\\ERCOT-245_2800_HVRT.xlsx\\']\\n\\n[Settings]\\nPlot_Flag = 1')"
   ]
  },
  {
   "cell_type": "code",
   "execution_count": 61,
   "metadata": {},
   "outputs": [
    {
     "name": "stdout",
     "output_type": "stream",
     "text": [
      "Finish the VRT of 24INR0056 & 23INR0183 Pradera Solar & Pradera Storage successfully.\n",
      "\n"
     ]
    }
   ],
   "source": [
    "\"\"\"This section runs the VRT.\"\"\"\n",
    "import os\n",
    "\n",
    "os.chdir(vrt_path)\n",
    "\n",
    "#for project in project_list:\n",
    "project = '24INR0056 & 23INR0183 Pradera Solar & Pradera Storage'\n",
    "for bess in scenario:\n",
    "    for initial in initials:\n",
    "        filename = vrt_path + project + '_VRT_' + bess + '_' + initial + '.ini'\n",
    "        os.system('python dmview.py \"'+filename+'\"')\n",
    "print('Finish the VRT of '+project+' successfully.\\n')\n"
   ]
  },
  {
   "cell_type": "code",
   "execution_count": 62,
   "metadata": {},
   "outputs": [
    {
     "name": "stderr",
     "output_type": "stream",
     "text": [
      "C:\\Users\\Arthur Li\\AppData\\Local\\Temp\\ipykernel_27080\\3968047066.py:83: UserWarning: You have mixed positional and keyword arguments, some input may be discarded.\n",
      "  fig.legend([ax1, ax2],loc = 'center right', labels=labels)\n"
     ]
    }
   ],
   "source": [
    "\"\"\"This section plots the VRT results.\"\"\"\n",
    "import os\n",
    "import sys\n",
    "import psse35\n",
    "import psspy\n",
    "import dyntools\n",
    "import matplotlib.pyplot as plt\n",
    "import glob\n",
    "from docx import Document\n",
    "from docx.shared import Inches\n",
    "from io import BytesIO\n",
    "\n",
    "sys_path_PSSE = r'C:\\Program Files\\PTI\\PSSE35\\35.5\\PSSPY39'  # or where else you find the psspy.pyc\n",
    "sys.path.append(sys_path_PSSE)\n",
    "\n",
    "os_path_PSSE = r'C:\\Program Files\\PTI\\PSSE35\\35.5\\PSSBIN'  # or where else you find the psse.exe\n",
    "# sys.path.append(os_path_PSSE)\n",
    "# os.environ['PATH'] += ';' + os_path_PSSE\n",
    "# os.environ['PATH'] += ';' + sys_path_PSSE\n",
    "\n",
    "# Create list with all .OUT files in directory\n",
    "tests = ['TEST01_LVRT_LEGACY_VOLT','TEST02_LVRT_VOLT_DIP_VOLT','TEST03_HVRT_PREFERED_VOLT']\n",
    "#tests = ['TEST00_FS_FS']\n",
    "\n",
    "os.chdir(project_path+project+'/')\n",
    "#os.chdir(project_path+'24INR0056 & 23INR0183 Pradera Solar & Pradera Storage/')\n",
    "\n",
    "document = Document()\n",
    "document.add_heading('VRT Report for'+project,0)\n",
    "\n",
    "for bess in scenario:\n",
    "    if bess == 'dis':\n",
    "        subtitle1 = 'Discharging'\n",
    "    else:\n",
    "        subtitle1 = 'Charging'\n",
    "    for initial in initials:\n",
    "        if initial == 'lag':\n",
    "            subtitle2 = 'lagging'\n",
    "        else:\n",
    "            subtitle2 = 'leading'\n",
    "\n",
    "        name = project.upper()+'_VRT_' + bess + '_' + initial\n",
    "        outpath = 'D:\\DMView 3.3\\RESULTs\\\\'+name\n",
    "        outlist = []\n",
    "\n",
    "        document.add_heading(subtitle1 +' '+subtitle2+':')\n",
    "\n",
    "        for test in tests:\n",
    "            out = glob.glob(outpath+'\\\\'+test+'\\*.out')[0]\n",
    "            outlist.append(out)\n",
    "\n",
    "            outfile = dyntools.CHNF(out)\n",
    "\n",
    "            short_title, chanid_dict, chandata_dict = outfile.get_data()\n",
    "\n",
    "            # Plot VRT result\n",
    "            p_num, q_num, v_num = 4, 6, 28 # Change the channel number here ************************************************************************************************\n",
    "            time = chandata_dict['time']\n",
    "            \n",
    "            title = test+' at '+chanid_dict[p_num][5:]\n",
    "            labels = ['Real Power','Reactive Power','Voltage']\n",
    "\n",
    "            fig, (ax1, ax2) = plt.subplots(2, sharex=True)\n",
    "            fig.suptitle(title)\n",
    "\n",
    "            ax1.set_ylabel('Real and Reactive Power (pu)')\n",
    "            ax1.plot(time, chandata_dict[p_num], color='tab:green',)\n",
    "            ax1.plot(time, chandata_dict[q_num], color='tab:red',)\n",
    "            ax1.grid(linestyle = '--')\n",
    "\n",
    "            ax2.set_xlabel('Time (seconds)')\n",
    "            ax2.set_ylabel('Voltage (pu)')\n",
    "            ax2.plot(time, chandata_dict[v_num], color='tab:blue',)\n",
    "            ax2.grid(linestyle = '--')\n",
    "\n",
    "            fig.tight_layout()  # otherwise the right y-label is slightly clipped\n",
    "            if test == 'TEST03_HVRT_PREFERED_VOLT':\n",
    "                plt.xlim(0,20)\n",
    "            elif test == 'TEST02_LVRT_VOLT_DIP_VOLT':\n",
    "                plt.xlim(0,60)\n",
    "            else:\n",
    "                plt.xlim(0,25)\n",
    "            fig.legend([ax1, ax2],loc = 'center right', labels=labels)\n",
    "\n",
    "            memfile = BytesIO()\n",
    "            plt.savefig(memfile)\n",
    "            plt.close()\n",
    "            document.add_picture(memfile, width=Inches(5))\n",
    "            memfile.close()\n",
    "            \n",
    "document.save(project+'.docx')\n"
   ]
  },
  {
   "cell_type": "code",
   "execution_count": 57,
   "metadata": {},
   "outputs": [
    {
     "name": "stdout",
     "output_type": "stream",
     "text": [
      "D:/ERCOT/AEP Dynamic/MQT/Undone/24INR0056 & 23INR00183 Pradera Solar & Pradera Storage/\n",
      "D:/ERCOT/AEP Dynamic/MQT/Undone/24INR0056 & 23INR0183 Pradera Solar & Pradera Storage/\n"
     ]
    }
   ],
   "source": [
    "print(project_path+project+'/')\n",
    "print(project_path+'24INR0056 & 23INR0183 Pradera Solar & Pradera Storage/')"
   ]
  }
 ],
 "metadata": {
  "kernelspec": {
   "display_name": "Python 3",
   "language": "python",
   "name": "python3"
  },
  "language_info": {
   "codemirror_mode": {
    "name": "ipython",
    "version": 3
   },
   "file_extension": ".py",
   "mimetype": "text/x-python",
   "name": "python",
   "nbconvert_exporter": "python",
   "pygments_lexer": "ipython3",
   "version": "3.9.13"
  }
 },
 "nbformat": 4,
 "nbformat_minor": 2
}
