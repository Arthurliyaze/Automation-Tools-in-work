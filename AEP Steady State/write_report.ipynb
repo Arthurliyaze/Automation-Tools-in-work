{
 "cells": [
  {
   "cell_type": "markdown",
   "metadata": {},
   "source": [
    "# Change the TARA results format to write the AEP steady state report.\n",
    "## Section 1 need to be run first for all of the rest sections.\n",
    "### 1. Define a function to get the bus name and information in the Planning data dictionary."
   ]
  },
  {
   "cell_type": "code",
   "execution_count": 1,
   "metadata": {},
   "outputs": [],
   "source": [
    "\"\"\"This section defines a function to get the bus info given the number or the sswg name.\"\"\"\n",
    "import numpy as np\n",
    "import pandas as pd\n",
    "\n",
    "# Read the excel file\n",
    "df = pd.read_excel(\"data/ERCOT_24SSWGU1_Planning_Data_Dictionary_11072024.xlsx\",sheet_name=2,usecols=\"B,C,F,R\")\n",
    "\n",
    "# Define a function get the information of the bus\n",
    "def get_bus_info(bus_number, sswg_name=None):\n",
    "    \"\"\"Input the bus number (int), return the SSWG bus name, bus voltage, and the planned longname\"\"\"\n",
    "\n",
    "    bus = np.logical_or(df['SSWG BUS NUMBER'].values == bus_number,df['SSWG BUS NAME'].values == sswg_name)\n",
    "    df_bus = df.loc[bus]\n",
    "    try:\n",
    "        if df_bus.iloc[0]['SSWG BASE KV'] % 1 == 0:\n",
    "            return df_bus.iloc[0]['SSWG BUS NAME'], df_bus.iloc[0]['PLANNING BUS LONGNAME'].title(), int(df_bus.iloc[0]['SSWG BASE KV'])\n",
    "        else:\n",
    "            return df_bus.iloc[0]['SSWG BUS NAME'], df_bus.iloc[0]['PLANNING BUS LONGNAME'].title(), df_bus.iloc[0]['SSWG BASE KV']\n",
    "    except IndexError:\n",
    "        print(f'Bus {bus_number} is not in the planning data dictionary.')\n"
   ]
  },
  {
   "cell_type": "markdown",
   "metadata": {},
   "source": [
    "Test the function."
   ]
  },
  {
   "cell_type": "code",
   "execution_count": 2,
   "metadata": {},
   "outputs": [
    {
     "data": {
      "text/plain": [
       "('PAWNEESW5', 'Pawneesw5', 345)"
      ]
     },
     "execution_count": 2,
     "metadata": {},
     "output_type": "execute_result"
    }
   ],
   "source": [
    "get_bus_info(5725)"
   ]
  },
  {
   "cell_type": "markdown",
   "metadata": {},
   "source": [
    "### 2. Define the function to input the TARA voltage violation bus cell and output the voltage violation result as a sentence in report."
   ]
  },
  {
   "cell_type": "code",
   "execution_count": 69,
   "metadata": {},
   "outputs": [],
   "source": [
    "\"\"\"This section defines a function to convert the bus number to long bus name for bus in report VOLTAGE violation table.\"\"\"\n",
    "def volviolation(bus):\n",
    "    import re\n",
    "\n",
    "    bus = bus.strip()\n",
    "    bus = re.sub(r'\\s+', ' ', bus)\n",
    "    bus = bus.rstrip(' kV')\n",
    "\n",
    "    # Get the bus number, sswg name and voltage\n",
    "    num = re.findall(r'(\\d+) ', bus)[0]\n",
    "    sswg_name = re.findall(r' (\\w+)', bus)[0]\n",
    "    volt = re.findall(r'\\d+$',bus)[0]\n",
    "    try:\n",
    "        [sswg_name, long_name, bus_voltage] = get_bus_info(int(num),sswg_name)\n",
    "        if long_name[-2:] == 'kV':\n",
    "            long_name = long_name[:-2]\n",
    "            #print(f' the {long_name.title()} kV bus,')\n",
    "            return (f'The {long_name.title()} kV bus begins to experience')\n",
    "        else:\n",
    "            #print(f' the {long_name.title()} ' + volt + ' kV bus,')\n",
    "            return (f'The {long_name.title()} {bus_voltage} kV bus begins to experience')\n",
    "    except TypeError:\n",
    "        return ('Write this bus voltage violation manually to the report.')"
   ]
  },
  {
   "cell_type": "markdown",
   "metadata": {},
   "source": [
    "Test the function."
   ]
  },
  {
   "cell_type": "code",
   "execution_count": 4,
   "metadata": {},
   "outputs": [
    {
     "name": "stdout",
     "output_type": "stream",
     "text": [
      "The Devine 138 kV bus begins to experience large voltage drop for the loss of \n"
     ]
    }
   ],
   "source": [
    "# User input the Bus description\n",
    "# bus = input(\"Please enter the bus in the report table: \")\n",
    "# bus = '44343 IMPERL05T3_8 138'\n",
    "bus = '8732 DEVINE4A    138'\n",
    "print(volviolation(bus))"
   ]
  },
  {
   "cell_type": "markdown",
   "metadata": {},
   "source": [
    "### 3. Define the function to input the TARA thermal violation branch cell and output the thermal violation result as a sentence in report."
   ]
  },
  {
   "cell_type": "code",
   "execution_count": 18,
   "metadata": {},
   "outputs": [],
   "source": [
    "\"\"\"This section defines a function to convert the bus number to long bus name for branch in report THERMAL violation table.\"\"\"\n",
    "def thmviolation(branch):\n",
    "    import re\n",
    "    branch = branch.strip()\n",
    "    branch = re.sub(r'\\s+', ' ', branch)\n",
    "    branch = branch.replace('.0','')\n",
    "\n",
    "    # Get two bus numbers and voltage\n",
    "    info = re.findall(r'(\\d+) \\D', branch)[:3]\n",
    "    volt = re.findall(r' \\d+ ',branch)\n",
    "    ckt = re.findall(r'\\w+$',branch)[0]\n",
    "\n",
    "    bus_name = []\n",
    "    try:\n",
    "        for i in range(2):\n",
    "            [sswg_name, long_name, bus_voltage] = get_bus_info(int(info[i]),'')\n",
    "            bus_name.append(long_name.title())\n",
    "\n",
    "        if volt[0] == volt[1]:  # AC line\n",
    "            return (f\"The {bus_name[0]} to {bus_name[1]}\"+ volt[0] +\"kV line circuit \" + ckt + ' begins to experience overloading for the loss of ')\n",
    "        else:   # Transformer\n",
    "            return (f\"The {bus_name[0]}{volt[0]}kV to {bus_name[1]}\"+ volt[1] +'kV transformer begins to experience overloading for the loss of ')\n",
    "    except TypeError:\n",
    "        return ('Write this branch thermal violation manually to the report.')"
   ]
  },
  {
   "cell_type": "markdown",
   "metadata": {},
   "source": [
    "Test the function."
   ]
  },
  {
   "cell_type": "code",
   "execution_count": 57,
   "metadata": {},
   "outputs": [
    {
     "name": "stdout",
     "output_type": "stream",
     "text": [
      "The Cuero Lcra to Thomaston Pst Load Side 138 kV line circuit 1 begins to experience overloading for the loss of \n"
     ]
    }
   ],
   "source": [
    "# User input the Branch description\n",
    "# branch = input(\"Please enter the branch in the report table: \")\n",
    "# Test\n",
    "# branch = '8186 KENEDYSW4A    138    8913 KARNES4A      138  1  '\n",
    "# branch = '8186 KENEDYSW4A 138 8913 KARNES4A 138  1  '\n",
    "# branch = '5400 SPRUCE 345 5295 MARTINEZ_5 345 1'          # Error because 5295 not in the planning data dictionary\n",
    "# branch = '110015 WAP_WAP_G5 20.0 49216 GENWAP5_05_8 138 G1'\n",
    "# branch = '49216 GENWAP5_05_8 138 44010 W_A_P__POI8A 138 GL'\n",
    "branch = ' 7244 L_CUERO_8_1Y 138 89450 THOMASTN4B 138 1'\n",
    "print(thmviolation(branch))"
   ]
  },
  {
   "cell_type": "markdown",
   "metadata": {},
   "source": [
    "### 4. Define the function to input the Contigency ID and output the contigency legend or description in report."
   ]
  },
  {
   "cell_type": "code",
   "execution_count": 6,
   "metadata": {},
   "outputs": [],
   "source": [
    "\"\"\"This section is used to convert contingency to two different forms in reports. The year and season are needed.\"\"\"\n",
    "\"\"\"Run the prepare_file jupyter notebook to get the all-together contigency file.\"\"\"\n",
    "def get_con(id, year, season):\n",
    "    import re\n",
    "\n",
    "    season = season.strip().upper()\n",
    "    id = id.rstrip().upper()\n",
    "\n",
    "    contingency = ''\n",
    "\n",
    "    # Find the contingency in the all-together file\n",
    "    file_name = 'data/'+year[2:]+season+'_All.con'\n",
    "    with open (file_name, encoding=\"utf8\", errors='ignore') as file:\n",
    "        lines = file.readlines()\n",
    "\n",
    "        # looping through each line in the file \n",
    "        for line in lines: \n",
    "            \n",
    "            # if line have the input string, get the index of that line  \n",
    "            if '\\''+id+'\\'' in line: \n",
    "                idx = lines.index(line)\n",
    "                \n",
    "\n",
    "                # find where this contingency end\n",
    "                while ' END' not in lines[idx]:\n",
    "                    contingency = contingency + lines[idx] #+ \"\\n\"\n",
    "                    idx += 1\n",
    "                break\n",
    "        # closing file after reading \n",
    "        file.close() \n",
    "\n",
    "    # Create the contingency for Table legend\n",
    "    cont_0 = contingency.splitlines()[1:]\n",
    "    cont_1 = contingency.splitlines()[1:]\n",
    "    cont_2 = contingency.splitlines()[1:]\n",
    "    for line in range(len(cont_1)):\n",
    "        cont_0[line] = cont_0[line].split('/',1)[0].lstrip().rstrip()\n",
    "        cont_1[line] = cont_1[line].split('/',1)[0].lstrip().rstrip().lower()\n",
    "        cont_2[line] = cont_2[line].split('/',1)[0].lstrip().rstrip().lower()\n",
    "\n",
    "        bus_list = re.findall(r'bus (\\d+)', cont_1[line])\n",
    "        for i in range(len(bus_list)):\n",
    "            bus_number = int(bus_list[i])\n",
    "            [sswg_name, long_name, bus_voltage] = get_bus_info(bus_number,'')\n",
    "            if 'open bus' in cont_1[line]:\n",
    "                cont_1[line] = cont_1[line].replace(f'{bus_list[i]}',f'{bus_list[i]} [{sswg_name} {bus_voltage}]')\n",
    "            else:\n",
    "                cont_1[line] = cont_1[line].replace(f'bus {bus_list[i]}',f'{bus_list[i]} [{sswg_name} {bus_voltage}]')\n",
    "            if i == len(bus_list)-1:    # the last bus\n",
    "                if len(bus_list) == 2:\n",
    "                    cont_2[line] = cont_2[line].replace(f'bus {bus_list[i]}',f'{long_name.title()} {bus_voltage} kV line')\n",
    "                else:\n",
    "                    cont_2[line] = cont_2[line].replace(f'bus {bus_list[i]}',f'{long_name.title()} {bus_voltage} kV bus')\n",
    "            else:\n",
    "                cont_2[line] = cont_2[line].replace(f'bus {bus_list[i]}',f'{long_name.title()}')\n",
    "            cont_2[line] = cont_2[line].replace('open branch from','the')\n",
    "            cont_2[line] = cont_2[line].replace('Kv','kV')\n",
    "            cont_2[line] = cont_2[line].replace('ckt','circuit')\n",
    "            cont_2[line] = cont_2[line].replace('open','the')\n",
    "            cont_2[line] = cont_2[line].replace('remove','the')     \n",
    "\n",
    "    # Change cont2 from line lists to a sentence\n",
    "    cont_2_sen = ''\n",
    "    for i in range(len(cont_2)):\n",
    "        if i > 0 and cont_2[i][:-1] == cont_2[i-1][:-1]:\n",
    "                cont_2_sen = cont_2_sen[:-2]+' and 2, '\n",
    "        else:\n",
    "            if len(cont_2) != 1 and i == len(cont_2)-1:\n",
    "                cont_2_sen += 'and '+cont_2[i] +','\n",
    "            else:\n",
    "                cont_2_sen = cont_2_sen + cont_2[i] + ', '\n",
    "    return cont_1, cont_2_sen\n",
    "\n",
    "# Define a function to print out the contingency in lines\n",
    "def print_con(cont):\n",
    "    for line in range(len(cont)):\n",
    "        print(cont[line])\n",
    "\n",
    "# Define a function to create the contingency legend\n",
    "def get_conLegend(id, year, season):\n",
    "    print_con(get_con(id, year, season)[0])\n",
    "\n",
    "def get_conDescription(id, year, season):\n",
    "    return (get_con(id, year, season)[1])\n",
    "    "
   ]
  },
  {
   "cell_type": "markdown",
   "metadata": {},
   "source": [
    "Test the functions."
   ]
  },
  {
   "cell_type": "code",
   "execution_count": 66,
   "metadata": {},
   "outputs": [
    {
     "name": "stdout",
     "output_type": "stream",
     "text": [
      "the Riverside Pump 69 kV bus, \n"
     ]
    }
   ],
   "source": [
    "\"\"\"Test different contingency.\"\"\"\n",
    "# id = input(\"Please enter the contingency ID you want to convert (DB_ID_XXXXX): \")\n",
    "# id = 'DB_ID_7499'\n",
    "# id = 'DB_ID_633'        # remove unit from bus\n",
    "# id = 'DB_ID_26591'     # remove branch multiple lines\n",
    "# id = 'DB_ID_38746'     # remove bus, remove branch combined\n",
    "# id = 'DB_ID_50794'    # double circuit same branch name\n",
    "id = 'DB_ID_12867'\n",
    "# id = 'DB_ID_7728'\n",
    "# get_conLegend(id,'2025','spg')\n",
    "print(get_conDescription(id,'2028','sum'))"
   ]
  },
  {
   "cell_type": "markdown",
   "metadata": {},
   "source": [
    "### 5. Define the function to convert one line in the result table to a paragraph."
   ]
  },
  {
   "cell_type": "code",
   "execution_count": null,
   "metadata": {},
   "outputs": [],
   "source": [
    "def get_paragraph(scenario, project_name, year, season, copied_texts):\n",
    "\n",
    "    import re\n",
    "\n",
    "    copied_texts = copied_texts.rstrip()\n",
    "    copied_texts = copied_texts.replace('.0','')\n",
    "    splitted_texts = copied_texts.split('\t')\n",
    "\n",
    "    # Get the results\n",
    "    trans_limits = splitted_texts[:4]\n",
    "    item = splitted_texts[4]\n",
    "    id = splitted_texts[5]\n",
    "    id = re.sub(r'\\w+_\\w+_\\d+ & ', '', id)\n",
    "\n",
    "    # existing gen results\n",
    "    res = 'when '+project_name+' is '\n",
    "    if scenario == 'a':\n",
    "        res += 'discharging'\n",
    "    elif scenario == 'b':\n",
    "        res += 'charging'\n",
    "\n",
    "    left, right = 0, 3\n",
    "    level = [25,50,75,100]\n",
    "\n",
    "    # Iterate while left pointer is less than right\n",
    "    while left < right:\n",
    "        if trans_limits[left][0] != '>' and trans_limits[right][0] != '>':\n",
    "            break\n",
    "        elif trans_limits[left][0] == '>': \n",
    "            left += 1  # Move left pointer to the right\n",
    "        else:\n",
    "            right -= 1 # Move right pointer to the left\n",
    "    if left != 0 and right != 3:\n",
    "        print('This result does not make sense, please double check!')\n",
    "    elif left == right or trans_limits[left] == trans_limits[right]:\n",
    "        res += f' at {trans_limits[left]} MW'\n",
    "    elif scenario == 'a':\n",
    "        res += f' from {trans_limits[left]} MW to {trans_limits[right]} MW'\n",
    "    else:\n",
    "        res += f' from {trans_limits[right]} MW to {trans_limits[left]} MW'\n",
    "\n",
    "    res += ' and existing area generation is dispatched'\n",
    "    if left == right:\n",
    "        res += f' at {level[left]}% in {year}'\n",
    "    elif scenario == 'a':\n",
    "        res+= f' from {level[left]}% to {level[right]}% in {year}'\n",
    "    else:\n",
    "        res+= f' from {level[right]}% to {level[left]}% in {year}'\n",
    "\n",
    "    if season == 'sum':\n",
    "        res += ' Summer Case.'\n",
    "    elif season == 'min':\n",
    "        res += ' Minimum Case.'\n",
    "    elif season == 'spg':\n",
    "        res += ' Spring Case.'\n",
    "    else:\n",
    "        print('Season information is incorrect!')\n",
    "        return True\n",
    "    # Output the report description\n",
    "    if splitted_texts[-1] == '100':\n",
    "        return (thmviolation(item)+get_conDescription(id,year,season)+res)\n",
    "    elif splitted_texts[-1] == '0.92':\n",
    "        return (volviolation(item)+' low voltage for the loss of '+get_conDescription(id,year,season)+res)\n",
    "    else:\n",
    "        return (volviolation(item)+' large voltage drop for the loss of '+get_conDescription(id,year,season)+res)\n",
    "\n"
   ]
  },
  {
   "cell_type": "code",
   "execution_count": 74,
   "metadata": {},
   "outputs": [
    {
     "name": "stdout",
     "output_type": "stream",
     "text": [
      "The Devine 138 kV bus begins to experience low voltage for the loss of the Lytle to Lytle 138 kV line circuit 1, when Chacon Creek BESS is discharging at 0 MW and existing area generation is dispatched from 25% to 100% in 2028 Minimum Case.\n"
     ]
    }
   ],
   "source": [
    "scenario = 'a'\n",
    "project_name = 'Chacon Creek BESS'\n",
    "year = '2028'\n",
    "season = 'min'\n",
    "\n",
    "# copied_texts = input('Paste')\n",
    "# copied_texts = '>160.88\t>160.88\t>160.88\t106.7\t11048 TONKAWAW_5    345   10049 RANGER_5      345  1\tDB_ID_11020\t21.3\t1072\t100.0'\n",
    "# copied_texts = '>204.8\t0\t0\t0\t  5725 PAWNEESW5     345    5400 SPRUCE        345  1  \tDB_ID_2017\t45.82\t1058\t100.0'\n",
    "# copied_texts = '>160.88\t>160.88\t93.5\t0\t11048 TONKAWAW_5    345   10049 RANGER_5      345  1\tDB_ID_47531\t21.3\t1072\t100.0'\n",
    "# copied_texts = '>160.88\t57.8\t0\t0\t   11306 DERMOTT_8     138    1312 SCURYCHV_8    138  1  \tDB_ID_51092 & DB_ID_46789\t8.4\t394\t100.0'\n",
    "# copied_texts = '>181.9\t116.6\t0\t0\t  5422 TALLY_RD      138    7432 L_MEDILA8_1Y  138  1  \tDB_ID_28198\t12.4\t220\t100.0'\n",
    "copied_texts = '0\t0\t0\t0\t8732 DEVINE4A    138\tDB_ID_7695\t0.92'\n",
    "\n",
    "print(get_paragraph(scenario, project_name, year, season, copied_texts))\n"
   ]
  }
 ],
 "metadata": {
  "kernelspec": {
   "display_name": "Python 3",
   "language": "python",
   "name": "python3"
  },
  "language_info": {
   "codemirror_mode": {
    "name": "ipython",
    "version": 3
   },
   "file_extension": ".py",
   "mimetype": "text/x-python",
   "name": "python",
   "nbconvert_exporter": "python",
   "pygments_lexer": "ipython3",
   "version": "3.9.13"
  }
 },
 "nbformat": 4,
 "nbformat_minor": 2
}
